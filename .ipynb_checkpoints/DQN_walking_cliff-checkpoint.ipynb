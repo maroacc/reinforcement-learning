{
 "cells": [
  {
   "cell_type": "code",
   "execution_count": 1,
   "metadata": {},
   "outputs": [],
   "source": [
    "import gym\n",
    "import random\n",
    "import tensorflow as tf\n",
    "from collections import deque\n",
    "\n",
    "\n",
    "# TensorFlow ≥2.0 is required\n",
    "import tensorflow as tf\n",
    "from tensorflow import keras"
   ]
  },
  {
   "cell_type": "code",
   "execution_count": 2,
   "metadata": {},
   "outputs": [],
   "source": [
    "# Hiperparámetros\n",
    "epsilon = 1.0\n",
    "epsilon_decay = 0.999\n",
    "epsilon_min = 0.01\n",
    "gamma = 0.99\n",
    "learning_rate = 0.001\n",
    "batch_size = 32\n",
    "memory = deque(maxlen=100000)"
   ]
  },
  {
   "cell_type": "code",
   "execution_count": 3,
   "metadata": {},
   "outputs": [
    {
     "name": "stderr",
     "output_type": "stream",
     "text": [
      "[2023-05-11 18:31:26,327] Making new env: CliffWalking-v0\n"
     ]
    },
    {
     "ename": "UnregisteredEnv",
     "evalue": "No registered env with id: CliffWalking-v0",
     "output_type": "error",
     "traceback": [
      "\u001b[1;31m---------------------------------------------------------------------------\u001b[0m",
      "\u001b[1;31mKeyError\u001b[0m                                  Traceback (most recent call last)",
      "File \u001b[1;32mc:\\Users\\marti\\anaconda3\\envs\\dl\\lib\\site-packages\\gym\\envs\\registration.py:100\u001b[0m, in \u001b[0;36mEnvRegistry.spec\u001b[1;34m(self, id)\u001b[0m\n\u001b[0;32m     99\u001b[0m \u001b[39mtry\u001b[39;00m:\n\u001b[1;32m--> 100\u001b[0m     \u001b[39mreturn\u001b[39;00m \u001b[39mself\u001b[39;49m\u001b[39m.\u001b[39;49menv_specs[\u001b[39mid\u001b[39;49m]\n\u001b[0;32m    101\u001b[0m \u001b[39mexcept\u001b[39;00m \u001b[39mKeyError\u001b[39;00m:\n\u001b[0;32m    102\u001b[0m     \u001b[39m# Parse the env name and check to see if it matches the non-version\u001b[39;00m\n\u001b[0;32m    103\u001b[0m     \u001b[39m# part of a valid env (could also check the exact number here)\u001b[39;00m\n",
      "\u001b[1;31mKeyError\u001b[0m: 'CliffWalking-v0'",
      "\nDuring handling of the above exception, another exception occurred:\n",
      "\u001b[1;31mUnregisteredEnv\u001b[0m                           Traceback (most recent call last)",
      "Cell \u001b[1;32mIn[3], line 2\u001b[0m\n\u001b[0;32m      1\u001b[0m \u001b[39m# Crea el entorno\u001b[39;00m\n\u001b[1;32m----> 2\u001b[0m env \u001b[39m=\u001b[39m gym\u001b[39m.\u001b[39;49mmake(\u001b[39m'\u001b[39;49m\u001b[39mCliffWalking-v0\u001b[39;49m\u001b[39m'\u001b[39;49m)\n\u001b[0;32m      4\u001b[0m input_shape \u001b[39m=\u001b[39m [\u001b[39m4\u001b[39m] \u001b[39m# == env.observation_space.shape\u001b[39;00m\n\u001b[0;32m      5\u001b[0m n_outputs \u001b[39m=\u001b[39m \u001b[39m2\u001b[39m\n",
      "File \u001b[1;32mc:\\Users\\marti\\anaconda3\\envs\\dl\\lib\\site-packages\\gym\\envs\\registration.py:88\u001b[0m, in \u001b[0;36mEnvRegistry.make\u001b[1;34m(self, id)\u001b[0m\n\u001b[0;32m     86\u001b[0m \u001b[39mdef\u001b[39;00m \u001b[39mmake\u001b[39m(\u001b[39mself\u001b[39m, \u001b[39mid\u001b[39m):\n\u001b[0;32m     87\u001b[0m     logger\u001b[39m.\u001b[39minfo(\u001b[39m'\u001b[39m\u001b[39mMaking new env: \u001b[39m\u001b[39m%s\u001b[39;00m\u001b[39m'\u001b[39m, \u001b[39mid\u001b[39m)\n\u001b[1;32m---> 88\u001b[0m     spec \u001b[39m=\u001b[39m \u001b[39mself\u001b[39;49m\u001b[39m.\u001b[39;49mspec(\u001b[39mid\u001b[39;49m)\n\u001b[0;32m     89\u001b[0m     \u001b[39mreturn\u001b[39;00m spec\u001b[39m.\u001b[39mmake()\n",
      "File \u001b[1;32mc:\\Users\\marti\\anaconda3\\envs\\dl\\lib\\site-packages\\gym\\envs\\registration.py:110\u001b[0m, in \u001b[0;36mEnvRegistry.spec\u001b[1;34m(self, id)\u001b[0m\n\u001b[0;32m    108\u001b[0m     \u001b[39mraise\u001b[39;00m error\u001b[39m.\u001b[39mDeprecatedEnv(\u001b[39m'\u001b[39m\u001b[39mEnv \u001b[39m\u001b[39m{}\u001b[39;00m\u001b[39m not found (valid versions include \u001b[39m\u001b[39m{}\u001b[39;00m\u001b[39m)\u001b[39m\u001b[39m'\u001b[39m\u001b[39m.\u001b[39mformat(\u001b[39mid\u001b[39m, matching_envs))\n\u001b[0;32m    109\u001b[0m \u001b[39melse\u001b[39;00m:\n\u001b[1;32m--> 110\u001b[0m     \u001b[39mraise\u001b[39;00m error\u001b[39m.\u001b[39mUnregisteredEnv(\u001b[39m'\u001b[39m\u001b[39mNo registered env with id: \u001b[39m\u001b[39m{}\u001b[39;00m\u001b[39m'\u001b[39m\u001b[39m.\u001b[39mformat(\u001b[39mid\u001b[39m))\n",
      "\u001b[1;31mUnregisteredEnv\u001b[0m: No registered env with id: CliffWalking-v0"
     ]
    }
   ],
   "source": [
    "# Crea el entorno\n",
    "env = gym.make('CliffWalking-v0')\n",
    "\n",
    "input_shape = [4] # == env.observation_space.shape\n",
    "n_outputs = 2 # == env.action_space.n"
   ]
  },
  {
   "cell_type": "code",
   "execution_count": null,
   "metadata": {},
   "outputs": [
    {
     "name": "stderr",
     "output_type": "stream",
     "text": [
      "c:\\Users\\marti\\anaconda3\\envs\\ml\\lib\\site-packages\\keras\\optimizers\\optimizer_v2\\adam.py:114: UserWarning: The `lr` argument is deprecated, use `learning_rate` instead.\n",
      "  super().__init__(name, **kwargs)\n"
     ]
    }
   ],
   "source": [
    "# Define la red neuronal\n",
    "model = tf.keras.models.Sequential([\n",
    "    tf.keras.layers.Dense(24, input_shape=env.observation_space.shape, activation='relu'),\n",
    "    tf.keras.layers.Dense(24, activation='relu'),\n",
    "    tf.keras.layers.Dense(env.action_space.n, activation='linear')\n",
    "])\n",
    "\n",
    "# Compila el modelo\n",
    "model.compile(loss='mse', optimizer=tf.keras.optimizers.Adam(lr=learning_rate))"
   ]
  },
  {
   "cell_type": "code",
   "execution_count": null,
   "metadata": {},
   "outputs": [],
   "source": [
    "# Función para seleccionar una acción\n",
    "def select_action(state):\n",
    "    if random.uniform(0, 1) < epsilon:\n",
    "        return env.action_space.sample()\n",
    "    else:\n",
    "        return tf.argmax(model.predict(state)[0]).numpy()\n",
    "\n",
    "# Función para entrenar el modelo\n",
    "def train_model():\n",
    "    if len(memory) < batch_size:\n",
    "        return\n",
    "    \n",
    "    # Obtén una muestra aleatoria de la memoria\n",
    "    batch = random.sample(memory, batch_size)\n",
    "    \n",
    "    for state, action, reward, next_state, done in batch:\n",
    "        if done:\n",
    "            target = reward\n",
    "        else:\n",
    "            target = reward + gamma * tf.reduce_max(model.predict(next_state)[0]).numpy()\n",
    "        \n",
    "        target_f = model.predict(state)\n",
    "        target_f[0][action] = target\n",
    "        \n",
    "        # Entrena el modelo con la muestra\n",
    "        model.fit(state, target_f, epochs=1, verbose=0)\n",
    "    \n",
    "    # Reduce la probabilidad de seleccionar una acción aleatoria\n",
    "    global epsilon\n",
    "    if epsilon > epsilon_min:\n",
    "        epsilon *= epsilon_decay"
   ]
  },
  {
   "cell_type": "code",
   "execution_count": null,
   "metadata": {},
   "outputs": [
    {
     "ename": "IndexError",
     "evalue": "tuple index out of range",
     "output_type": "error",
     "traceback": [
      "\u001b[1;31m---------------------------------------------------------------------------\u001b[0m",
      "\u001b[1;31mIndexError\u001b[0m                                Traceback (most recent call last)",
      "\u001b[1;32mc:\\Users\\marti\\OneDrive - Universidad Pontificia Comillas\\MasterBD\\10 - Machine Learning II\\01 - Prácticas\\00 - Entregables\\DQN_walking_cliff.ipynb Cell 6\u001b[0m in \u001b[0;36m<cell line: 3>\u001b[1;34m()\u001b[0m\n\u001b[0;32m      <a href='vscode-notebook-cell:/c%3A/Users/marti/OneDrive%20-%20Universidad%20Pontificia%20Comillas/MasterBD/10%20-%20Machine%20Learning%20II/01%20-%20Pr%C3%A1cticas/00%20-%20Entregables/DQN_walking_cliff.ipynb#W5sZmlsZQ%3D%3D?line=2'>3</a>\u001b[0m \u001b[39mfor\u001b[39;00m episode \u001b[39min\u001b[39;00m \u001b[39mrange\u001b[39m(\u001b[39m1000\u001b[39m):\n\u001b[0;32m      <a href='vscode-notebook-cell:/c%3A/Users/marti/OneDrive%20-%20Universidad%20Pontificia%20Comillas/MasterBD/10%20-%20Machine%20Learning%20II/01%20-%20Pr%C3%A1cticas/00%20-%20Entregables/DQN_walking_cliff.ipynb#W5sZmlsZQ%3D%3D?line=3'>4</a>\u001b[0m     state \u001b[39m=\u001b[39m env\u001b[39m.\u001b[39mreset()\n\u001b[1;32m----> <a href='vscode-notebook-cell:/c%3A/Users/marti/OneDrive%20-%20Universidad%20Pontificia%20Comillas/MasterBD/10%20-%20Machine%20Learning%20II/01%20-%20Pr%C3%A1cticas/00%20-%20Entregables/DQN_walking_cliff.ipynb#W5sZmlsZQ%3D%3D?line=4'>5</a>\u001b[0m     state \u001b[39m=\u001b[39m tf\u001b[39m.\u001b[39mreshape(state, [\u001b[39m1\u001b[39m, env\u001b[39m.\u001b[39;49mobservation_space\u001b[39m.\u001b[39;49mshape[\u001b[39m0\u001b[39;49m]])\n\u001b[0;32m      <a href='vscode-notebook-cell:/c%3A/Users/marti/OneDrive%20-%20Universidad%20Pontificia%20Comillas/MasterBD/10%20-%20Machine%20Learning%20II/01%20-%20Pr%C3%A1cticas/00%20-%20Entregables/DQN_walking_cliff.ipynb#W5sZmlsZQ%3D%3D?line=6'>7</a>\u001b[0m     \u001b[39mfor\u001b[39;00m time_step \u001b[39min\u001b[39;00m \u001b[39mrange\u001b[39m(\u001b[39m500\u001b[39m):\n\u001b[0;32m      <a href='vscode-notebook-cell:/c%3A/Users/marti/OneDrive%20-%20Universidad%20Pontificia%20Comillas/MasterBD/10%20-%20Machine%20Learning%20II/01%20-%20Pr%C3%A1cticas/00%20-%20Entregables/DQN_walking_cliff.ipynb#W5sZmlsZQ%3D%3D?line=7'>8</a>\u001b[0m         env\u001b[39m.\u001b[39mrender()\n",
      "\u001b[1;31mIndexError\u001b[0m: tuple index out of range"
     ]
    }
   ],
   "source": [
    "episode_scores = []\n",
    "# Entrena al agente\n",
    "for episode in range(1000):\n",
    "    state = env.reset()\n",
    "    state = tf.reshape(state, [1, env.observation_space.shape[0]])\n",
    "    \n",
    "    for time_step in range(500):\n",
    "        env.render()\n",
    "        \n",
    "        action = select_action(state)\n",
    "        \n",
    "        next_state, reward, done, info = env.step(action)\n",
    "        next_state = tf.reshape(next_state, [1, env.observation_space.shape[0]])\n",
    "        \n",
    "        memory.append((state, action, reward, next_state, done))\n",
    "        state = next_state\n",
    "        \n",
    "        train_model()\n",
    "\n",
    "        episode_scores.append(time_step+1)\n",
    "        \n",
    "        if done:\n",
    "            print(\"Episodio {} completado en {} pasos. Epsilon: {:.2}\".format(episode, time_step+1, epsilon))\n",
    "            break\n",
    "        \n",
    "env.close()\n"
   ]
  },
  {
   "cell_type": "code",
   "execution_count": null,
   "metadata": {},
   "outputs": [],
   "source": [
    "import matplotlib.pyplot as plt\n",
    "\n",
    "# Pinta el gráfico\n",
    "plt.plot(episode_scores)\n",
    "plt.title('Aprendizaje del agente')\n",
    "plt.xlabel('Episodio')\n",
    "plt.ylabel('Puntaje total')\n",
    "plt.show()"
   ]
  },
  {
   "cell_type": "code",
   "execution_count": null,
   "metadata": {},
   "outputs": [],
   "source": [
    "# Del profe, revisar si funciona\n",
    "env.seed(42)\n",
    "state = env.reset()\n",
    "\n",
    "frames = []\n",
    "\n",
    "for step in range(200):\n",
    "    action = epsilon_greedy_policy(state)\n",
    "    state, reward, done, info = env.step(action)\n",
    "    if done:\n",
    "        break\n",
    "    img = env.render(mode=\"rgb_array\")\n",
    "    frames.append(img)\n",
    "    \n",
    "plot_animation(frames)"
   ]
  },
  {
   "cell_type": "code",
   "execution_count": 4,
   "metadata": {},
   "outputs": [
    {
     "name": "stdout",
     "output_type": "stream",
     "text": [
      "Collecting matplotlib==3.6.0\n",
      "  Using cached matplotlib-3.6.0-cp310-cp310-win_amd64.whl (7.2 MB)\n",
      "Requirement already satisfied: pyparsing>=2.2.1 in c:\\users\\marti\\anaconda3\\envs\\dl\\lib\\site-packages (from matplotlib==3.6.0) (3.0.9)\n",
      "Requirement already satisfied: numpy>=1.19 in c:\\users\\marti\\anaconda3\\envs\\dl\\lib\\site-packages (from matplotlib==3.6.0) (1.23.5)\n",
      "Requirement already satisfied: fonttools>=4.22.0 in c:\\users\\marti\\anaconda3\\envs\\dl\\lib\\site-packages (from matplotlib==3.6.0) (4.25.0)\n",
      "Requirement already satisfied: cycler>=0.10 in c:\\users\\marti\\anaconda3\\envs\\dl\\lib\\site-packages (from matplotlib==3.6.0) (0.11.0)\n",
      "Requirement already satisfied: kiwisolver>=1.0.1 in c:\\users\\marti\\anaconda3\\envs\\dl\\lib\\site-packages (from matplotlib==3.6.0) (1.4.4)\n",
      "Requirement already satisfied: contourpy>=1.0.1 in c:\\users\\marti\\anaconda3\\envs\\dl\\lib\\site-packages (from matplotlib==3.6.0) (1.0.5)\n",
      "Requirement already satisfied: packaging>=20.0 in c:\\users\\marti\\anaconda3\\envs\\dl\\lib\\site-packages (from matplotlib==3.6.0) (23.0)\n",
      "Requirement already satisfied: python-dateutil>=2.7 in c:\\users\\marti\\anaconda3\\envs\\dl\\lib\\site-packages (from matplotlib==3.6.0) (2.8.2)\n",
      "Requirement already satisfied: pillow>=6.2.0 in c:\\users\\marti\\anaconda3\\envs\\dl\\lib\\site-packages (from matplotlib==3.6.0) (9.4.0)\n",
      "Requirement already satisfied: six>=1.5 in c:\\users\\marti\\anaconda3\\envs\\dl\\lib\\site-packages (from python-dateutil>=2.7->matplotlib==3.6.0) (1.16.0)\n",
      "Installing collected packages: matplotlib\n",
      "  Attempting uninstall: matplotlib\n",
      "    Found existing installation: matplotlib 3.7.1\n",
      "    Uninstalling matplotlib-3.7.1:\n",
      "      Successfully uninstalled matplotlib-3.7.1\n",
      "Successfully installed matplotlib-3.6.0\n"
     ]
    }
   ],
   "source": [
    "!pip install matplotlib==3.6.0"
   ]
  },
  {
   "attachments": {},
   "cell_type": "markdown",
   "metadata": {},
   "source": [
    "---\n"
   ]
  },
  {
   "cell_type": "code",
   "execution_count": 5,
   "metadata": {},
   "outputs": [
    {
     "ename": "ModuleNotFoundError",
     "evalue": "No module named 'PIL'",
     "output_type": "error",
     "traceback": [
      "\u001b[1;31m---------------------------------------------------------------------------\u001b[0m",
      "\u001b[1;31mModuleNotFoundError\u001b[0m                       Traceback (most recent call last)",
      "Cell \u001b[1;32mIn[5], line 5\u001b[0m\n\u001b[0;32m      3\u001b[0m \u001b[39mimport\u001b[39;00m \u001b[39mtensorflow\u001b[39;00m \u001b[39mas\u001b[39;00m \u001b[39mtf\u001b[39;00m\n\u001b[0;32m      4\u001b[0m \u001b[39mfrom\u001b[39;00m \u001b[39mcollections\u001b[39;00m \u001b[39mimport\u001b[39;00m deque\n\u001b[1;32m----> 5\u001b[0m \u001b[39mimport\u001b[39;00m \u001b[39mmatplotlib\u001b[39;00m\u001b[39m.\u001b[39;00m\u001b[39mpyplot\u001b[39;00m \u001b[39mas\u001b[39;00m \u001b[39mplt\u001b[39;00m\n\u001b[0;32m      7\u001b[0m \u001b[39m# Hiperparámetros\u001b[39;00m\n\u001b[0;32m      8\u001b[0m epsilon \u001b[39m=\u001b[39m \u001b[39m1.0\u001b[39m\n",
      "File \u001b[1;32mc:\\Users\\marti\\anaconda3\\envs\\dl\\lib\\site-packages\\matplotlib\\__init__.py:113\u001b[0m\n\u001b[0;32m    109\u001b[0m \u001b[39mfrom\u001b[39;00m \u001b[39mpackaging\u001b[39;00m\u001b[39m.\u001b[39;00m\u001b[39mversion\u001b[39;00m \u001b[39mimport\u001b[39;00m parse \u001b[39mas\u001b[39;00m parse_version\n\u001b[0;32m    111\u001b[0m \u001b[39m# cbook must import matplotlib only within function\u001b[39;00m\n\u001b[0;32m    112\u001b[0m \u001b[39m# definitions, so it is safe to import from it here.\u001b[39;00m\n\u001b[1;32m--> 113\u001b[0m \u001b[39mfrom\u001b[39;00m \u001b[39m.\u001b[39;00m \u001b[39mimport\u001b[39;00m _api, _version, cbook, _docstring, rcsetup\n\u001b[0;32m    114\u001b[0m \u001b[39mfrom\u001b[39;00m \u001b[39mmatplotlib\u001b[39;00m\u001b[39m.\u001b[39;00m\u001b[39mcbook\u001b[39;00m \u001b[39mimport\u001b[39;00m sanitize_sequence\n\u001b[0;32m    115\u001b[0m \u001b[39mfrom\u001b[39;00m \u001b[39mmatplotlib\u001b[39;00m\u001b[39m.\u001b[39;00m\u001b[39m_api\u001b[39;00m \u001b[39mimport\u001b[39;00m MatplotlibDeprecationWarning\n",
      "File \u001b[1;32mc:\\Users\\marti\\anaconda3\\envs\\dl\\lib\\site-packages\\matplotlib\\rcsetup.py:27\u001b[0m\n\u001b[0;32m     25\u001b[0m \u001b[39mfrom\u001b[39;00m \u001b[39mmatplotlib\u001b[39;00m \u001b[39mimport\u001b[39;00m _api, cbook\n\u001b[0;32m     26\u001b[0m \u001b[39mfrom\u001b[39;00m \u001b[39mmatplotlib\u001b[39;00m\u001b[39m.\u001b[39;00m\u001b[39mcbook\u001b[39;00m \u001b[39mimport\u001b[39;00m ls_mapper\n\u001b[1;32m---> 27\u001b[0m \u001b[39mfrom\u001b[39;00m \u001b[39mmatplotlib\u001b[39;00m\u001b[39m.\u001b[39;00m\u001b[39mcolors\u001b[39;00m \u001b[39mimport\u001b[39;00m Colormap, is_color_like\n\u001b[0;32m     28\u001b[0m \u001b[39mfrom\u001b[39;00m \u001b[39mmatplotlib\u001b[39;00m\u001b[39m.\u001b[39;00m\u001b[39m_fontconfig_pattern\u001b[39;00m \u001b[39mimport\u001b[39;00m parse_fontconfig_pattern\n\u001b[0;32m     29\u001b[0m \u001b[39mfrom\u001b[39;00m \u001b[39mmatplotlib\u001b[39;00m\u001b[39m.\u001b[39;00m\u001b[39m_enums\u001b[39;00m \u001b[39mimport\u001b[39;00m JoinStyle, CapStyle\n",
      "File \u001b[1;32mc:\\Users\\marti\\anaconda3\\envs\\dl\\lib\\site-packages\\matplotlib\\colors.py:51\u001b[0m\n\u001b[0;32m     49\u001b[0m \u001b[39mfrom\u001b[39;00m \u001b[39mnumbers\u001b[39;00m \u001b[39mimport\u001b[39;00m Number\n\u001b[0;32m     50\u001b[0m \u001b[39mimport\u001b[39;00m \u001b[39mre\u001b[39;00m\n\u001b[1;32m---> 51\u001b[0m \u001b[39mfrom\u001b[39;00m \u001b[39mPIL\u001b[39;00m \u001b[39mimport\u001b[39;00m Image\n\u001b[0;32m     52\u001b[0m \u001b[39mfrom\u001b[39;00m \u001b[39mPIL\u001b[39;00m\u001b[39m.\u001b[39;00m\u001b[39mPngImagePlugin\u001b[39;00m \u001b[39mimport\u001b[39;00m PngInfo\n\u001b[0;32m     54\u001b[0m \u001b[39mimport\u001b[39;00m \u001b[39mmatplotlib\u001b[39;00m \u001b[39mas\u001b[39;00m \u001b[39mmpl\u001b[39;00m\n",
      "\u001b[1;31mModuleNotFoundError\u001b[0m: No module named 'PIL'"
     ]
    }
   ],
   "source": [
    "import gym\n",
    "import random\n",
    "import tensorflow as tf\n",
    "from collections import deque\n",
    "import matplotlib.pyplot as plt\n",
    "\n",
    "# Hiperparámetros\n",
    "epsilon = 1.0\n",
    "epsilon_decay = 0.999\n",
    "epsilon_min = 0.01\n",
    "gamma = 0.99\n",
    "learning_rate = 0.001\n",
    "batch_size = 32\n",
    "memory = deque(maxlen=100000)\n",
    "\n",
    "# Crea el ambiente\n",
    "env = gym.make('CliffWalking-v0')\n",
    "\n",
    "# Define la red neuronal\n",
    "model = tf.keras.models.Sequential([\n",
    "    tf.keras.layers.Dense(24, input_shape=env.observation_space.shape, activation='relu'),\n",
    "    tf.keras.layers.Dense(24, activation='relu'),\n",
    "    tf.keras.layers.Dense(env.action_space.n, activation='linear')\n",
    "])\n",
    "\n",
    "# Compila el modelo\n",
    "model.compile(loss='mse', optimizer=tf.keras.optimizers.Adam(lr=learning_rate))\n",
    "\n",
    "# Función para seleccionar una acción\n",
    "def select_action(state):\n",
    "    if random.uniform(0, 1) < epsilon:\n",
    "        return env.action_space.sample()\n",
    "    else:\n",
    "        return tf.argmax(model.predict(state)[0]).numpy()\n",
    "\n",
    "# Función para entrenar el modelo\n",
    "def train_model():\n",
    "    if len(memory) < batch_size:\n",
    "        return\n",
    "    \n",
    "    # Obtén una muestra aleatoria de la memoria\n",
    "    batch = random.sample(memory, batch_size)\n",
    "    \n",
    "    for state, action, reward, next_state, done in batch:\n",
    "        if done:\n",
    "            target = reward\n",
    "        else:\n",
    "            target = reward + gamma * tf.reduce_max(model.predict(next_state)[0]).numpy()\n",
    "        \n",
    "        target_f = model.predict(state)\n",
    "        target_f[0][action] = target\n",
    "        \n",
    "        # Entrena el modelo con la muestra\n",
    "        model.fit(state, target_f, epochs=1, verbose=0)\n",
    "    \n",
    "    # Reduce la probabilidad de seleccionar una acción aleatoria\n",
    "    global epsilon\n",
    "    if epsilon > epsilon_min:\n",
    "        epsilon *= epsilon_decay\n",
    "\n",
    "# Entrena al agente\n",
    "episode_scores = []\n",
    "for episode in range(1000):\n",
    "    state = env.reset()\n",
    "    state = tf.reshape(state, [1, env.observation_space.shape[0]])\n",
    "    \n",
    "    for time_step in range(500):\n",
    "        env.render() # Renderiza el entorno\n",
    "\n",
    "        # Selecciona una acción\n",
    "        action = select_action(state)\n",
    "\n",
    "        # Ejecuta la acción y observa el resultado\n",
    "        next_state, reward, done, _ = env.step(action)\n",
    "        next_state = tf.reshape(next_state, [1, env.observation_space.shape[0]])\n",
    "        \n",
    "        # Almacena la transición en la memoria\n",
    "        memory.append((state, action, reward, next_state, done))\n",
    "        \n",
    "        # Actualiza el estado actual\n",
    "        state = next_state\n",
    "        \n",
    "        # Entrena el modelo\n",
    "        train_model()\n",
    "        \n",
    "        if done:\n",
    "            print(f\"Episodio {episode}: Puntaje total = {time_step+1}\")\n",
    "            episode_scores.append(time_step+1)\n",
    "            break\n",
    "\n",
    "# Pinta el gráfico\n",
    "plt.plot(episode_scores)\n",
    "plt.title('Aprendizaje del agente')\n",
    "plt.xlabel('Episodio')\n",
    "plt.ylabel('Puntaje total')\n",
    "plt.show()\n",
    "\n",
    "# Cierra el entorno\n",
    "env.close()\n"
   ]
  },
  {
   "cell_type": "code",
   "execution_count": 3,
   "metadata": {},
   "outputs": [
    {
     "name": "stdout",
     "output_type": "stream",
     "text": [
      "Requirement already satisfied: matplotlib in c:\\users\\marti\\anaconda3\\envs\\dl\\lib\\site-packages (3.7.1)\n",
      "Requirement already satisfied: cycler>=0.10 in c:\\users\\marti\\anaconda3\\envs\\dl\\lib\\site-packages (from matplotlib) (0.11.0)\n",
      "Requirement already satisfied: numpy>=1.20 in c:\\users\\marti\\anaconda3\\envs\\dl\\lib\\site-packages (from matplotlib) (1.23.5)\n",
      "Requirement already satisfied: python-dateutil>=2.7 in c:\\users\\marti\\anaconda3\\envs\\dl\\lib\\site-packages (from matplotlib) (2.8.2)\n",
      "Requirement already satisfied: packaging>=20.0 in c:\\users\\marti\\anaconda3\\envs\\dl\\lib\\site-packages (from matplotlib) (23.0)\n",
      "Requirement already satisfied: kiwisolver>=1.0.1 in c:\\users\\marti\\anaconda3\\envs\\dl\\lib\\site-packages (from matplotlib) (1.4.4)\n",
      "Requirement already satisfied: pyparsing>=2.3.1 in c:\\users\\marti\\anaconda3\\envs\\dl\\lib\\site-packages (from matplotlib) (3.0.9)\n",
      "Requirement already satisfied: contourpy>=1.0.1 in c:\\users\\marti\\anaconda3\\envs\\dl\\lib\\site-packages (from matplotlib) (1.0.5)\n",
      "Requirement already satisfied: pillow>=6.2.0 in c:\\users\\marti\\anaconda3\\envs\\dl\\lib\\site-packages (from matplotlib) (9.4.0)\n",
      "Requirement already satisfied: fonttools>=4.22.0 in c:\\users\\marti\\anaconda3\\envs\\dl\\lib\\site-packages (from matplotlib) (4.25.0)\n",
      "Requirement already satisfied: six>=1.5 in c:\\users\\marti\\anaconda3\\envs\\dl\\lib\\site-packages (from python-dateutil>=2.7->matplotlib) (1.16.0)\n"
     ]
    }
   ],
   "source": [
    "!pip install matplotlib"
   ]
  },
  {
   "cell_type": "code",
   "execution_count": 5,
   "metadata": {},
   "outputs": [
    {
     "name": "stdout",
     "output_type": "stream",
     "text": [
      "Requirement already satisfied: Pillow in c:\\users\\marti\\anaconda3\\envs\\dl\\lib\\site-packages (9.4.0)\n"
     ]
    }
   ],
   "source": [
    "!pip install Pillow\n"
   ]
  }
 ],
 "metadata": {
  "kernelspec": {
   "display_name": "RL",
   "language": "python",
   "name": "python3"
  },
  "language_info": {
   "codemirror_mode": {
    "name": "ipython",
    "version": 3
   },
   "file_extension": ".py",
   "mimetype": "text/x-python",
   "name": "python",
   "nbconvert_exporter": "python",
   "pygments_lexer": "ipython3",
   "version": "3.10.9"
  },
  "orig_nbformat": 4
 },
 "nbformat": 4,
 "nbformat_minor": 2
}
