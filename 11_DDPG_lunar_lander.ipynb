{
 "cells": [
  {
   "cell_type": "code",
   "execution_count": 1,
   "metadata": {},
   "outputs": [],
   "source": [
    "import gym\n",
    "import numpy as np\n",
    "\n",
    "import tensorflow as tf\n",
    "from tensorflow.keras import Model\n",
    "\n",
    "from IPython.display import clear_output\n",
    "from tensorflow.keras.models import load_model"
   ]
  },
  {
   "cell_type": "code",
   "execution_count": 2,
   "metadata": {},
   "outputs": [],
   "source": [
    "class ReplayBuffer():\n",
    "    def __init__(self, maxsize, statedim, naction):\n",
    "        self.cnt = 0\n",
    "        self.maxsize = maxsize\n",
    "        self.state_memory = np.zeros((maxsize, *statedim), dtype=np.float32)\n",
    "        self.action_memory = np.zeros((maxsize, naction), dtype=np.float32)\n",
    "        self.reward_memory = np.zeros((maxsize,), dtype=np.float32)\n",
    "        self.next_state_memory = np.zeros((maxsize, *statedim), dtype=np.float32)\n",
    "        self.done_memory = np.zeros((maxsize,), dtype= np.bool)\n",
    "\n",
    "    def storexp(self, state, action, reward, next_state, done):\n",
    "        index = self.cnt % self.maxsize\n",
    "        self.state_memory[index] = state\n",
    "        self.action_memory[index] = action\n",
    "        self.reward_memory[index] = reward\n",
    "        self.next_state_memory[index] = next_state\n",
    "        self.done_memory[index] = 1- int(done)\n",
    "        self.cnt += 1\n",
    "\n",
    "    def sample(self, batch_size):\n",
    "        max_mem = min(self.cnt, self.maxsize)\n",
    "        batch = np.random.choice(max_mem, batch_size, replace= False)  \n",
    "        states = self.state_memory[batch]\n",
    "        next_states = self.next_state_memory[batch]\n",
    "        rewards = self.reward_memory[batch]\n",
    "        actions = self.action_memory[batch]\n",
    "        dones = self.done_memory[batch]\n",
    "        return states, next_states, rewards, actions, dones\n"
   ]
  },
  {
   "cell_type": "code",
   "execution_count": 3,
   "metadata": {},
   "outputs": [],
   "source": [
    "class Actor(Model):\n",
    "    def __init__(self, state_size: int, action_size: int, \n",
    "    ):\n",
    "        \"\"\"Initialization.\"\"\"\n",
    "        super(Actor, self).__init__()\n",
    "        \n",
    "        self.state_size = state_size\n",
    "        self.action_size = action_size\n",
    "        # set the hidden layers\n",
    "        self.layer1 = tf.keras.layers.Dense(hidden_size, activation='relu')\n",
    "        self.layer2 = tf.keras.layers.Dense(hidden_size, activation='relu')\n",
    "        self.policy =  tf.keras.layers.Dense(action_size, activation='tanh')\n",
    "\n",
    "    def call(self, state):\n",
    "        layer1 = self.layer1(state)\n",
    "        layer2 = self.layer2(layer1)\n",
    "        policy = self.policy(layer2)\n",
    "        return policy"
   ]
  },
  {
   "cell_type": "code",
   "execution_count": 4,
   "metadata": {},
   "outputs": [],
   "source": [
    "class CriticQ(Model):\n",
    "    def __init__(\n",
    "        self, \n",
    "        state_size: int, \n",
    "    ):\n",
    "        \"\"\"Initialize.\"\"\"\n",
    "        super(CriticQ, self).__init__()\n",
    "        self.layer1 = tf.keras.layers.Dense(hidden_size, activation='relu')\n",
    "        self.layer2 = tf.keras.layers.Dense(hidden_size, activation='relu')\n",
    "        self.value = tf.keras.layers.Dense(1, activation = None)\n",
    "\n",
    "    def call(self, state, action):\n",
    "        layer1 = self.layer1(tf.concat([state, action], axis=1))\n",
    "        layer2 = self.layer2(layer1)\n",
    "        value = self.value(layer2)\n",
    "        return value\n"
   ]
  },
  {
   "cell_type": "code",
   "execution_count": 5,
   "metadata": {},
   "outputs": [],
   "source": [
    "class Agent():\n",
    "    \"\"\"\n",
    "        \n",
    "    Attributes:\n",
    "        env (gym.Env): openAI Gym environment\n",
    "        gamma (float): discount factor\n",
    "        entropy_weight (float): rate of weighting entropy into the loss function\n",
    "        actor (tf.keras.Model): target actor model to select actions\n",
    "        critic (tf.keras.Model): critic model to predict state values\n",
    "        actor_optimizer (optim.Optimizer) : optimizer of actor\n",
    "        critic_optimizer (optim.Optimizer) : optimizer of critic\n",
    "        transition (list): temporory storage for the recent transition\n",
    "        is_test (bool): flag to show the current mode (train / test)\n",
    "    \"\"\"\n",
    "\n",
    "    def __init__(\n",
    "        self, \n",
    "        env: gym.Env,\n",
    "    ):\n",
    "        \"\"\"Initialization.\n",
    "        \n",
    "        Args:\n",
    "            env (gym.Env): openAI Gym environment\n",
    "            gamma (float): discount factor\n",
    "        \"\"\"\n",
    "        \n",
    "        # CREATING THE Q-Network\n",
    "        self.env = env\n",
    "        \n",
    "        self.state_size = self.env.observation_space.shape\n",
    "        self.action_size = len(env.action_space.high)\n",
    "        \n",
    "        self.actor_lr = 7e-3\n",
    "        self.critic_lr = 7e-3\n",
    "        self.gamma = 0.99    # discount rate\n",
    "        self.actor = Actor(self.state_size, self.action_size\n",
    "                          )\n",
    "        self.actor_target = Actor(self.state_size, self.action_size\n",
    "                          )\n",
    "        self.critic = CriticQ(self.state_size\n",
    "                          )\n",
    "        self.critic_target = CriticQ(self.state_size\n",
    "                          )\n",
    "        self.batch_size = 64\n",
    "        # self.a_opt = tf.keras.optimizers.RMSprop(learning_rate=1e-5)\n",
    "        # self.c_opt = tf.keras.optimizers.RMSprop(learning_rate=1e-5)\n",
    "        self.a_opt = tf.keras.optimizers.Adam(learning_rate=self.actor_lr)\n",
    "        self.c_opt = tf.keras.optimizers.Adam(learning_rate=self.critic_lr)\n",
    "        self.memory = ReplayBuffer(1_00_000, env.observation_space.shape, len(env.action_space.high))\n",
    "        self.trainstep = 0\n",
    "        self.update_freq = 5\n",
    "        self.min_action = env.action_space.low[0]\n",
    "        self.max_action = env.action_space.high[0]\n",
    "        self.update_target()\n",
    "    \n",
    "    def get_action(self, state, evaluate=False):\n",
    "        state = tf.convert_to_tensor([state], dtype=tf.float32)\n",
    "        actions = self.actor(state)\n",
    "        if not evaluate:\n",
    "            actions += tf.random.normal(shape=[self.action_size], mean=0.0, stddev=0.1)\n",
    "\n",
    "        actions = self.max_action * (tf.clip_by_value(actions, self.min_action, self.max_action))\n",
    "        # print(actions)\n",
    "        return actions[0]\n",
    "    \n",
    "    def savexp(self,state, next_state, action, done, reward):\n",
    "        self.memory.storexp(state, next_state, action, done, reward)\n",
    "\n",
    "    def update_target(self):\n",
    "        self.actor_target.set_weights(self.actor.get_weights())\n",
    "        self.critic_target.set_weights(self.critic.get_weights())\n",
    "\n",
    "    def train_step(self):\n",
    "        if self.memory.cnt < self.batch_size:\n",
    "            return \n",
    "\n",
    "        states, next_states, rewards, actions, dones = self.memory.sample(self.batch_size)\n",
    "\n",
    "        states      = tf.convert_to_tensor(states, dtype= tf.float32)\n",
    "        actions     = tf.convert_to_tensor(actions, dtype= tf.float32)\n",
    "        rewards     = tf.convert_to_tensor(rewards, dtype= tf.float32)\n",
    "        next_states = tf.convert_to_tensor(next_states, dtype= tf.float32)\n",
    "        # dones       = tf.convert_to_tensor(dones, dtype= tf.bool)\n",
    "        \n",
    "        with tf.GradientTape() as tape1, tf.GradientTape() as tape2:\n",
    "            \n",
    "            curr_Ps = self.actor(states)\n",
    "            curr_Qs = tf.squeeze(self.critic(states, actions), 1)\n",
    "            next_P_targs = self.actor_target(next_states)\n",
    "            next_Q_targs = tf.squeeze(self.critic_target(next_states, next_P_targs), 1)\n",
    "            expected_Qs  = rewards + self.gamma * next_Q_targs * dones\n",
    "            \n",
    "            # critic loss\n",
    "            critic_loss = tf.keras.losses.MSE(expected_Qs, curr_Qs)\n",
    "            \n",
    "            actor_loss = -self.critic(states, curr_Ps)\n",
    "            actor_loss = tf.math.reduce_mean(actor_loss)\n",
    "            \n",
    "        actorGrads = tape1.gradient(actor_loss,  self.actor.trainable_variables)\n",
    "        criticGrads = tape2.gradient(critic_loss, self.critic.trainable_variables)\n",
    "        self.a_opt.apply_gradients(zip(actorGrads, self.actor.trainable_variables))\n",
    "        self.c_opt.apply_gradients(zip(criticGrads, self.critic.trainable_variables))\n",
    "        \n",
    "        self.trainstep +=1\n",
    "        if self.trainstep % self.update_freq == 0:\n",
    "            self.update_target()\n"
   ]
  },
  {
   "cell_type": "code",
   "execution_count": 6,
   "metadata": {},
   "outputs": [
    {
     "name": "stdout",
     "output_type": "stream",
     "text": [
      "state_low   : [-inf -inf -inf -inf -inf -inf -inf -inf]\n",
      "state_high  : [inf inf inf inf inf inf inf inf]\n",
      "action_low  : [-1. -1.]\n",
      "action_high : [1. 1.]\n"
     ]
    }
   ],
   "source": [
    "seed = 1234\n",
    "# CREATING THE ENVIRONMENT\n",
    "env_name = \"CliffWalking-v0\"\n",
    "env = gym.make(env_name)\n",
    "# env.seed(seed)     # reproducible, general Policy gradient has high variance\n",
    "# state_low   = env.observation_space.low\n",
    "# state_high  = env.observation_space.high\n",
    "# action_low  = env.action_space.low \n",
    "# action_high = env.action_space.high\n",
    "# print(\"state_low   :\", state_low)\n",
    "# print(\"state_high  :\", state_high)\n",
    "# print(\"action_low  :\", action_low)\n",
    "# print(\"action_high :\", action_high)"
   ]
  },
  {
   "cell_type": "code",
   "execution_count": 7,
   "metadata": {},
   "outputs": [],
   "source": [
    "# INITIALIZING THE Q-PARAMETERS\n",
    "hidden_size = 512\n",
    "max_episodes = 5  # Set total number of episodes to train agent on."
   ]
  },
  {
   "cell_type": "code",
   "execution_count": 8,
   "metadata": {},
   "outputs": [
    {
     "name": "stderr",
     "output_type": "stream",
     "text": [
      "C:\\Users\\Maria\\AppData\\Local\\Temp\\ipykernel_14952\\324145003.py:9: DeprecationWarning: `np.bool` is a deprecated alias for the builtin `bool`. To silence this warning, use `bool` by itself. Doing this will not modify any behavior and is safe. If you specifically wanted the numpy scalar type, use `np.bool_` here.\n",
      "Deprecated in NumPy 1.20; for more details and guidance: https://numpy.org/devdocs/release/1.20.0-notes.html#deprecations\n",
      "  self.done_memory = np.zeros((maxsize,), dtype= np.bool)\n"
     ]
    },
    {
     "name": "stdout",
     "output_type": "stream",
     "text": [
      "Episode 1: -167.77408271181105\n",
      "Episode 2: -446.0926921972597\n",
      "Episode 3: -427.0779552921326\n",
      "Episode 4: -731.5235531718549\n",
      "Episode 5: -1458.582238346411\n"
     ]
    }
   ],
   "source": [
    "# train\n",
    "agent = Agent(\n",
    "    env, \n",
    "#     memory_size, \n",
    "#     batch_size, \n",
    "#     epsilon_decay,\n",
    ")\n",
    "\n",
    "if __name__ == \"__main__\":\n",
    "    tf.random.set_seed(336699)\n",
    "    # TRAINING LOOP\n",
    "    #List to contain all the rewards of all the episodes given to the agent\n",
    "    scores = []\n",
    "    reward_records = []\n",
    "    \n",
    "    # EACH EPISODE    \n",
    "    for episode in range(max_episodes):\n",
    "        ## Reset environment and get first new observation\n",
    "        state = agent.env.reset()\n",
    "        episode_reward = 0\n",
    "        done = False  # has the enviroment finished?\n",
    "        \n",
    "            \n",
    "        # EACH TIME STEP    \n",
    "        while not done:\n",
    "        # for step in range(max_steps):  # step index, maximum step is 200\n",
    "            action = agent.get_action(state)\n",
    "            \n",
    "            # TAKING ACTION\n",
    "            next_state, reward, done, _ = agent.env.step(action)\n",
    "            \n",
    "            agent.savexp(state, action, reward, next_state, done)\n",
    "            agent.train_step()\n",
    "            \n",
    "            # Our new state is state\n",
    "            state = next_state\n",
    "            \n",
    "            episode_reward += reward\n",
    "\n",
    "            # if episode ends\n",
    "            if done:\n",
    "                scores.append(episode_reward)\n",
    "                print(\"Episode \" + str(episode+1) + \": \" + str(episode_reward))\n",
    "                reward_records.append(episode_reward)\n",
    "                \n",
    "                break\n",
    "\n",
    "episode_reward = 0\n",
    "state = env.reset()\n",
    "while not done:\n",
    "    action = agent.act(state, True)\n",
    "    next_state, reward, done, _ = env.step(action)\n",
    "    state = next_state\n",
    "    episode_reward += reward\n",
    "    if done:\n",
    "        print(episode_reward)\n"
   ]
  },
  {
   "cell_type": "code",
   "execution_count": 9,
   "metadata": {},
   "outputs": [
    {
     "data": {
      "text/plain": [
       "[<matplotlib.lines.Line2D at 0x2235e6dea30>]"
      ]
     },
     "execution_count": 9,
     "metadata": {},
     "output_type": "execute_result"
    },
    {
     "data": {
      "image/png": "[encoded data removed]",
      "text/plain": [
       "<Figure size 640x480 with 1 Axes>"
      ]
     },
     "metadata": {},
     "output_type": "display_data"
    }
   ],
   "source": [
    "import matplotlib.pyplot as plt\n",
    "# Generate recent 50 interval average\n",
    "average_reward = []\n",
    "for idx in range(len(reward_records)):\n",
    "    avg_list = np.empty(shape=(1,), dtype=int)\n",
    "    if idx < 50:\n",
    "        avg_list = reward_records[:idx+1]\n",
    "    else:\n",
    "        avg_list = reward_records[idx-49:idx+1]\n",
    "    average_reward.append(np.average(avg_list))\n",
    "plt.plot(reward_records)\n",
    "plt.plot(average_reward)"
   ]
  },
  {
   "cell_type": "code",
   "execution_count": null,
   "metadata": {},
   "outputs": [],
   "source": []
  },
  {
   "cell_type": "code",
   "execution_count": null,
   "metadata": {},
   "outputs": [],
   "source": []
  },
  {
   "cell_type": "code",
   "execution_count": null,
   "metadata": {},
   "outputs": [],
   "source": []
  }
 ],
 "metadata": {
  "colab": {
   "collapsed_sections": [
    "_jQ1tEQCxwRx"
   ],
   "name": "actor_critic.ipynb",
   "toc_visible": true
  },
  "kernelspec": {
   "display_name": "Python 3 (ipykernel)",
   "language": "python",
   "name": "python3"
  },
  "language_info": {
   "codemirror_mode": {
    "name": "ipython",
    "version": 3
   },
   "file_extension": ".py",
   "mimetype": "text/x-python",
   "name": "python",
   "nbconvert_exporter": "python",
   "pygments_lexer": "ipython3",
   "version": "3.8.16"
  }
 },
 "nbformat": 4,
 "nbformat_minor": 4
}
